{
 "cells": [
  {
   "cell_type": "code",
   "execution_count": 1,
   "metadata": {},
   "outputs": [
    {
     "name": "stdout",
     "output_type": "stream",
     "text": [
      "2.5.0\n"
     ]
    }
   ],
   "source": [
    "import tensorflow as tf\n",
    "\n",
    "print(tf.__version__)\n"
   ]
  },
  {
   "cell_type": "code",
   "execution_count": 2,
   "metadata": {},
   "outputs": [],
   "source": [
    "mnist = tf.keras.datasets.fashion_mnist\n",
    "(training_images, training_labels), (test_images, test_labels) = mnist.load_data()"
   ]
  },
  {
   "cell_type": "code",
   "execution_count": 3,
   "metadata": {},
   "outputs": [
    {
     "name": "stdout",
     "output_type": "stream",
     "text": [
      "9\n",
      "[[  0   0   0   0   0   0   0   0   0   0   0   0   0   0   0   0   0   0   0   0   0   0   0   0   0   0   0   0]\n",
      " [  0   0   0   0   0   0   0   0   0   0   0   0   0   0   0   0   0   0   0   0   0   0   0   0   0   0   0   0]\n",
      " [  0   0   0   0   0   0   0   0   0   0   0   0   0   0   0   0   0   0   0   0   0   0   0   0   0   0   0   0]\n",
      " [  0   0   0   0   0   0   0   0   0   0   0   0   1   0   0  13  73   0   0   1   4   0   0   0   0   1   1   0]\n",
      " [  0   0   0   0   0   0   0   0   0   0   0   0   3   0  36 136 127  62  54   0   0   0   1   3   4   0   0   3]\n",
      " [  0   0   0   0   0   0   0   0   0   0   0   0   6   0 102 204 176 134 144 123  23   0   0   0   0  12  10   0]\n",
      " [  0   0   0   0   0   0   0   0   0   0   0   0   0   0 155 236 207 178 107 156 161 109  64  23  77 130  72  15]\n",
      " [  0   0   0   0   0   0   0   0   0   0   0   1   0  69 207 223 218 216 216 163 127 121 122 146 141  88 172  66]\n",
      " [  0   0   0   0   0   0   0   0   0   1   1   1   0 200 232 232 233 229 223 223 215 213 164 127 123 196 229   0]\n",
      " [  0   0   0   0   0   0   0   0   0   0   0   0   0 183 225 216 223 228 235 227 224 222 224 221 223 245 173   0]\n",
      " [  0   0   0   0   0   0   0   0   0   0   0   0   0 193 228 218 213 198 180 212 210 211 213 223 220 243 202   0]\n",
      " [  0   0   0   0   0   0   0   0   0   1   3   0  12 219 220 212 218 192 169 227 208 218 224 212 226 197 209  52]\n",
      " [  0   0   0   0   0   0   0   0   0   0   6   0  99 244 222 220 218 203 198 221 215 213 222 220 245 119 167  56]\n",
      " [  0   0   0   0   0   0   0   0   0   4   0   0  55 236 228 230 228 240 232 213 218 223 234 217 217 209  92   0]\n",
      " [  0   0   1   4   6   7   2   0   0   0   0   0 237 226 217 223 222 219 222 221 216 223 229 215 218 255  77   0]\n",
      " [  0   3   0   0   0   0   0   0   0  62 145 204 228 207 213 221 218 208 211 218 224 223 219 215 224 244 159   0]\n",
      " [  0   0   0   0  18  44  82 107 189 228 220 222 217 226 200 205 211 230 224 234 176 188 250 248 233 238 215   0]\n",
      " [  0  57 187 208 224 221 224 208 204 214 208 209 200 159 245 193 206 223 255 255 221 234 221 211 220 232 246   0]\n",
      " [  3 202 228 224 221 211 211 214 205 205 205 220 240  80 150 255 229 221 188 154 191 210 204 209 222 228 225   0]\n",
      " [ 98 233 198 210 222 229 229 234 249 220 194 215 217 241  65  73 106 117 168 219 221 215 217 223 223 224 229  29]\n",
      " [ 75 204 212 204 193 205 211 225 216 185 197 206 198 213 240 195 227 245 239 223 218 212 209 222 220 221 230  67]\n",
      " [ 48 203 183 194 213 197 185 190 194 192 202 214 219 221 220 236 225 216 199 206 186 181 177 172 181 205 206 115]\n",
      " [  0 122 219 193 179 171 183 196 204 210 213 207 211 210 200 196 194 191 195 191 198 192 176 156 167 177 210  92]\n",
      " [  0   0  74 189 212 191 175 172 175 181 185 188 189 188 193 198 204 209 210 210 211 188 188 194 192 216 170   0]\n",
      " [  2   0   0   0  66 200 222 237 239 242 246 243 244 221 220 193 191 179 182 182 181 176 166 168  99  58   0   0]\n",
      " [  0   0   0   0   0   0   0  40  61  44  72  41  35   0   0   0   0   0   0   0   0   0   0   0   0   0   0   0]\n",
      " [  0   0   0   0   0   0   0   0   0   0   0   0   0   0   0   0   0   0   0   0   0   0   0   0   0   0   0   0]\n",
      " [  0   0   0   0   0   0   0   0   0   0   0   0   0   0   0   0   0   0   0   0   0   0   0   0   0   0   0   0]]\n"
     ]
    },
    {
     "data": {
      "text/plain": [
       "<matplotlib.image.AxesImage at 0x7f8304b7a190>"
      ]
     },
     "execution_count": 3,
     "metadata": {},
     "output_type": "execute_result"
    }
   ],
   "source": [
    "import numpy as np\n",
    "np.set_printoptions(linewidth=200)\n",
    "import matplotlib.pyplot as plt\n",
    "print(training_labels[0])\n",
    "print(training_images[0])\n",
    "\n",
    "plt.imshow(training_images[0])\n"
   ]
  },
  {
   "cell_type": "code",
   "execution_count": 4,
   "metadata": {},
   "outputs": [],
   "source": [
    "class myCallback(tf.keras.callbacks.Callback):\n",
    "    def on_epoch_end(self, epoch, logs={}):\n",
    "        if(logs.get('accuracy')>0.95):\n",
    "            print(\"\\nReached 95% accuracy so cancelling training!\")\n",
    "            self.model.stop_training = True\n"
   ]
  },
  {
   "cell_type": "code",
   "execution_count": 5,
   "metadata": {},
   "outputs": [],
   "source": [
    "training_images  = training_images / 255.0\n",
    "test_images = test_images / 255.0"
   ]
  },
  {
   "cell_type": "code",
   "execution_count": 6,
   "metadata": {},
   "outputs": [],
   "source": [
    "callbacks = myCallback()\n",
    "\n",
    "model = tf.keras.models.Sequential([tf.keras.layers.Flatten(), \n",
    "                                    tf.keras.layers.Dense(128, activation=tf.nn.relu), \n",
    "                                    tf.keras.layers.Dense(10, activation=tf.nn.softmax)])"
   ]
  },
  {
   "cell_type": "code",
   "execution_count": 7,
   "metadata": {},
   "outputs": [
    {
     "name": "stdout",
     "output_type": "stream",
     "text": [
      "Epoch 1/100\n",
      "1875/1875 [==============================] - 2s 745us/step - loss: 0.5001 - accuracy: 0.8239\n",
      "Epoch 2/100\n",
      "1875/1875 [==============================] - 1s 697us/step - loss: 0.3777 - accuracy: 0.8637\n",
      "Epoch 3/100\n",
      "1875/1875 [==============================] - 1s 710us/step - loss: 0.3413 - accuracy: 0.8754\n",
      "Epoch 4/100\n",
      "1875/1875 [==============================] - 1s 704us/step - loss: 0.3147 - accuracy: 0.8849\n",
      "Epoch 5/100\n",
      "1875/1875 [==============================] - 1s 702us/step - loss: 0.2976 - accuracy: 0.8906\n",
      "Epoch 6/100\n",
      "1875/1875 [==============================] - 1s 700us/step - loss: 0.2830 - accuracy: 0.8955\n",
      "Epoch 7/100\n",
      "1875/1875 [==============================] - 1s 740us/step - loss: 0.2696 - accuracy: 0.8999\n",
      "Epoch 8/100\n",
      "1875/1875 [==============================] - 1s 752us/step - loss: 0.2577 - accuracy: 0.9046\n",
      "Epoch 9/100\n",
      "1875/1875 [==============================] - 1s 779us/step - loss: 0.2476 - accuracy: 0.9078\n",
      "Epoch 10/100\n",
      "1875/1875 [==============================] - 2s 1ms/step - loss: 0.2409 - accuracy: 0.9097\n",
      "Epoch 11/100\n",
      "1875/1875 [==============================] - 2s 808us/step - loss: 0.2334 - accuracy: 0.9119\n",
      "Epoch 12/100\n",
      "1875/1875 [==============================] - 2s 1ms/step - loss: 0.2246 - accuracy: 0.9155\n",
      "Epoch 13/100\n",
      "1875/1875 [==============================] - 2s 850us/step - loss: 0.2165 - accuracy: 0.9184\n",
      "Epoch 14/100\n",
      "1875/1875 [==============================] - 2s 883us/step - loss: 0.2105 - accuracy: 0.9209\n",
      "Epoch 15/100\n",
      "1875/1875 [==============================] - 2s 1ms/step - loss: 0.2058 - accuracy: 0.9228\n",
      "Epoch 16/100\n",
      "1875/1875 [==============================] - 2s 1ms/step - loss: 0.1997 - accuracy: 0.9244\n",
      "Epoch 17/100\n",
      "1875/1875 [==============================] - 2s 1ms/step - loss: 0.1952 - accuracy: 0.9270\n",
      "Epoch 18/100\n",
      "1875/1875 [==============================] - 2s 1ms/step - loss: 0.1874 - accuracy: 0.9295\n",
      "Epoch 19/100\n",
      "1875/1875 [==============================] - 2s 1ms/step - loss: 0.1831 - accuracy: 0.9311\n",
      "Epoch 20/100\n",
      "1875/1875 [==============================] - 2s 1ms/step - loss: 0.1789 - accuracy: 0.9319\n",
      "Epoch 21/100\n",
      "1875/1875 [==============================] - 3s 1ms/step - loss: 0.1742 - accuracy: 0.9340\n",
      "Epoch 22/100\n",
      "1875/1875 [==============================] - 2s 1ms/step - loss: 0.1694 - accuracy: 0.9361\n",
      "Epoch 23/100\n",
      "1875/1875 [==============================] - 2s 1ms/step - loss: 0.1670 - accuracy: 0.9370\n",
      "Epoch 24/100\n",
      "1875/1875 [==============================] - 2s 1ms/step - loss: 0.1614 - accuracy: 0.9390\n",
      "Epoch 25/100\n",
      "1875/1875 [==============================] - 2s 1ms/step - loss: 0.1594 - accuracy: 0.9395\n",
      "Epoch 26/100\n",
      "1875/1875 [==============================] - 2s 1ms/step - loss: 0.1549 - accuracy: 0.9411\n",
      "Epoch 27/100\n",
      "1875/1875 [==============================] - 2s 1ms/step - loss: 0.1519 - accuracy: 0.9427\n",
      "Epoch 28/100\n",
      "1875/1875 [==============================] - 2s 1ms/step - loss: 0.1475 - accuracy: 0.9442\n",
      "Epoch 29/100\n",
      "1875/1875 [==============================] - 2s 1ms/step - loss: 0.1456 - accuracy: 0.9445\n",
      "Epoch 30/100\n",
      "1875/1875 [==============================] - 2s 1ms/step - loss: 0.1424 - accuracy: 0.9460\n",
      "Epoch 31/100\n",
      "1875/1875 [==============================] - 2s 1ms/step - loss: 0.1381 - accuracy: 0.9472\n",
      "Epoch 32/100\n",
      "1875/1875 [==============================] - 2s 911us/step - loss: 0.1373 - accuracy: 0.9479\n",
      "Epoch 33/100\n",
      "1875/1875 [==============================] - 2s 1ms/step - loss: 0.1331 - accuracy: 0.9498\n",
      "Epoch 34/100\n",
      "1875/1875 [==============================] - 2s 1ms/step - loss: 0.1315 - accuracy: 0.9498\n",
      "Epoch 35/100\n",
      "1875/1875 [==============================] - 2s 1ms/step - loss: 0.1268 - accuracy: 0.9528\n",
      "\n",
      "Reached 95% accuracy so cancelling training!\n"
     ]
    },
    {
     "data": {
      "text/plain": [
       "<tensorflow.python.keras.callbacks.History at 0x7f82e0040b50>"
      ]
     },
     "execution_count": 7,
     "metadata": {},
     "output_type": "execute_result"
    }
   ],
   "source": [
    "model.compile(optimizer = tf.optimizers.Adam(),\n",
    "              loss = 'sparse_categorical_crossentropy',\n",
    "              metrics=['accuracy'])\n",
    "\n",
    "model.fit(training_images, training_labels, epochs=100,callbacks=[callbacks])"
   ]
  },
  {
   "cell_type": "code",
   "execution_count": 8,
   "metadata": {},
   "outputs": [
    {
     "name": "stdout",
     "output_type": "stream",
     "text": [
      "313/313 [==============================] - 0s 728us/step - loss: 0.4175 - accuracy: 0.8890\n"
     ]
    },
    {
     "data": {
      "text/plain": [
       "[0.41753846406936646, 0.8889999985694885]"
      ]
     },
     "execution_count": 8,
     "metadata": {},
     "output_type": "execute_result"
    }
   ],
   "source": [
    "model.evaluate(test_images, test_labels)\n"
   ]
  },
  {
   "cell_type": "code",
   "execution_count": null,
   "metadata": {},
   "outputs": [],
   "source": []
  },
  {
   "cell_type": "code",
   "execution_count": null,
   "metadata": {},
   "outputs": [],
   "source": []
  }
 ],
 "metadata": {
  "kernelspec": {
   "display_name": "Python 3",
   "language": "python",
   "name": "python3"
  },
  "language_info": {
   "codemirror_mode": {
    "name": "ipython",
    "version": 3
   },
   "file_extension": ".py",
   "mimetype": "text/x-python",
   "name": "python",
   "nbconvert_exporter": "python",
   "pygments_lexer": "ipython3",
   "version": "3.7.4"
  }
 },
 "nbformat": 4,
 "nbformat_minor": 2
}
