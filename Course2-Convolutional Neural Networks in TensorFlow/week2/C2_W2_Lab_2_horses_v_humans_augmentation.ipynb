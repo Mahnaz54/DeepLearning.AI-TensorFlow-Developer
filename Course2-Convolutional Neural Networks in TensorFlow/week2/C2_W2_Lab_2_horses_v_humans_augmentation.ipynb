{
  "nbformat": 4,
  "nbformat_minor": 0,
  "metadata": {
    "accelerator": "GPU",
    "colab": {
      "name": "C2_W2_Lab_2_horses_v_humans_augmentation.ipynb",
      "provenance": [],
      "collapsed_sections": [],
      "toc_visible": true
    },
    "kernelspec": {
      "display_name": "Python 3",
      "language": "python",
      "name": "python3"
    },
    "language_info": {
      "codemirror_mode": {
        "name": "ipython",
        "version": 3
      },
      "file_extension": ".py",
      "mimetype": "text/x-python",
      "name": "python",
      "nbconvert_exporter": "python",
      "pygments_lexer": "ipython3",
      "version": "3.8.5"
    }
  },
  "cells": [
    {
      "cell_type": "markdown",
      "metadata": {
        "id": "rX8mhOLljYeM"
      },
      "source": [
        "##### Copyright 2019 The TensorFlow Authors."
      ]
    },
    {
      "cell_type": "code",
      "metadata": {
        "cellView": "form",
        "id": "BZSlp3DAjdYf"
      },
      "source": [
        "#@title Licensed under the Apache License, Version 2.0 (the \"License\");\n",
        "# you may not use this file except in compliance with the License.\n",
        "# You may obtain a copy of the License at\n",
        "#\n",
        "# https://www.apache.org/licenses/LICENSE-2.0\n",
        "#\n",
        "# Unless required by applicable law or agreed to in writing, software\n",
        "# distributed under the License is distributed on an \"AS IS\" BASIS,\n",
        "# WITHOUT WARRANTIES OR CONDITIONS OF ANY KIND, either express or implied.\n",
        "# See the License for the specific language governing permissions and\n",
        "# limitations under the License."
      ],
      "execution_count": null,
      "outputs": []
    },
    {
      "cell_type": "code",
      "metadata": {
        "id": "RXZT2UsyIVe_",
        "colab": {
          "base_uri": "https://localhost:8080/"
        },
        "outputId": "2de984ec-c6e4-4153-90a3-0f27ad9aa2ec"
      },
      "source": [
        "# horses-or-humans dataset\n",
        "!gdown --id 1onaG42NZft3wCE1WH0GDEbUhu75fedP5\n",
        "\n",
        "# horses-or-humans validation dataset\n",
        "!gdown --id 1LYeusSEIiZQpwN-mthh5nKdA75VsKG1U\n",
        "  \n",
        "import os\n",
        "import zipfile\n",
        "\n",
        "zip_ref = zipfile.ZipFile('./horse-or-human.zip', 'r')\n",
        "zip_ref.extractall('tmp/horse-or-human')\n",
        "\n",
        "zip_ref = zipfile.ZipFile('./validation-horse-or-human.zip', 'r')\n",
        "zip_ref.extractall('tmp/validation-horse-or-human')\n",
        "\n",
        "zip_ref.close()\n",
        "\n",
        "# Directory with our training horse pictures\n",
        "train_horse_dir = os.path.join('tmp/horse-or-human/horses')\n",
        "\n",
        "# Directory with our training human pictures\n",
        "train_human_dir = os.path.join('tmp/horse-or-human/humans')\n",
        "\n",
        "# Directory with our training horse pictures\n",
        "validation_horse_dir = os.path.join('tmp/validation-horse-or-human/horses')\n",
        "\n",
        "# Directory with our training human pictures\n",
        "validation_human_dir = os.path.join('tmp/validation-horse-or-human/humans')"
      ],
      "execution_count": 1,
      "outputs": [
        {
          "output_type": "stream",
          "name": "stdout",
          "text": [
            "Downloading...\n",
            "From: https://drive.google.com/uc?id=1onaG42NZft3wCE1WH0GDEbUhu75fedP5\n",
            "To: /content/horse-or-human.zip\n",
            "100% 150M/150M [00:01<00:00, 149MB/s]\n",
            "Downloading...\n",
            "From: https://drive.google.com/uc?id=1LYeusSEIiZQpwN-mthh5nKdA75VsKG1U\n",
            "To: /content/validation-horse-or-human.zip\n",
            "100% 11.5M/11.5M [00:00<00:00, 101MB/s]\n"
          ]
        }
      ]
    },
    {
      "cell_type": "markdown",
      "metadata": {
        "id": "5oqBkNBJmtUv"
      },
      "source": [
        "## Building a Small Model from Scratch\n",
        "\n",
        "But before we continue, let's start defining the model:\n",
        "\n",
        "Step 1 will be to import tensorflow."
      ]
    },
    {
      "cell_type": "code",
      "metadata": {
        "id": "qvfZg3LQbD-5"
      },
      "source": [
        "import tensorflow as tf"
      ],
      "execution_count": 2,
      "outputs": []
    },
    {
      "cell_type": "markdown",
      "metadata": {
        "id": "BnhYCP4tdqjC"
      },
      "source": [
        "We then add convolutional layers as in the previous example, and flatten the final result to feed into the densely connected layers."
      ]
    },
    {
      "cell_type": "markdown",
      "metadata": {
        "id": "gokG5HKpdtzm"
      },
      "source": [
        "Finally we add the densely connected layers. \n",
        "\n",
        "Note that because we are facing a two-class classification problem, i.e. a *binary classification problem*, we will end our network with a [*sigmoid* activation](https://wikipedia.org/wiki/Sigmoid_function), so that the output of our network will be a single scalar between 0 and 1, encoding the probability that the current image is class 1 (as opposed to class 0)."
      ]
    },
    {
      "cell_type": "code",
      "metadata": {
        "id": "PixZ2s5QbYQ3"
      },
      "source": [
        "model = tf.keras.models.Sequential([\n",
        "    # Note the input shape is the desired size of the image 300x300 with 3 bytes color\n",
        "    # This is the first convolution\n",
        "    tf.keras.layers.Conv2D(16, (3,3), activation='relu', input_shape=(300, 300, 3)),\n",
        "    tf.keras.layers.MaxPooling2D(2, 2),\n",
        "    # The second convolution\n",
        "    tf.keras.layers.Conv2D(32, (3,3), activation='relu'),\n",
        "    tf.keras.layers.MaxPooling2D(2,2),\n",
        "    # The third convolution\n",
        "    tf.keras.layers.Conv2D(64, (3,3), activation='relu'),\n",
        "    tf.keras.layers.MaxPooling2D(2,2),\n",
        "    # The fourth convolution\n",
        "    tf.keras.layers.Conv2D(64, (3,3), activation='relu'),\n",
        "    tf.keras.layers.MaxPooling2D(2,2),\n",
        "    # The fifth convolution\n",
        "    tf.keras.layers.Conv2D(64, (3,3), activation='relu'),\n",
        "    tf.keras.layers.MaxPooling2D(2,2),\n",
        "    # Flatten the results to feed into a DNN\n",
        "    tf.keras.layers.Flatten(),\n",
        "    # 512 neuron hidden layer\n",
        "    tf.keras.layers.Dense(512, activation='relu'),\n",
        "    # Only 1 output neuron. It will contain a value from 0-1 where 0 for 1 class ('horses') and 1 for the other ('humans')\n",
        "    tf.keras.layers.Dense(1, activation='sigmoid')\n",
        "])"
      ],
      "execution_count": 3,
      "outputs": []
    },
    {
      "cell_type": "code",
      "metadata": {
        "id": "8DHWhFP_uhq3"
      },
      "source": [
        "from tensorflow.keras.optimizers import RMSprop\n",
        "\n",
        "model.compile(loss='binary_crossentropy',\n",
        "              optimizer=RMSprop(learning_rate=1e-4),\n",
        "              metrics=['accuracy'])"
      ],
      "execution_count": 4,
      "outputs": []
    },
    {
      "cell_type": "code",
      "metadata": {
        "id": "ClebU9NJg99G",
        "colab": {
          "base_uri": "https://localhost:8080/"
        },
        "outputId": "1bc657cb-ad5d-4754-fa0f-90814cba2325"
      },
      "source": [
        "from tensorflow.keras.preprocessing.image import ImageDataGenerator\n",
        "\n",
        "# All images will be rescaled by 1./255\n",
        "train_datagen = ImageDataGenerator(\n",
        "      rescale=1./255,\n",
        "      rotation_range=40,\n",
        "      width_shift_range=0.2,\n",
        "      height_shift_range=0.2,\n",
        "      shear_range=0.2,\n",
        "      zoom_range=0.2,\n",
        "      horizontal_flip=True,\n",
        "      fill_mode='nearest')\n",
        "\n",
        "validation_datagen = ImageDataGenerator(rescale=1/255)\n",
        "\n",
        "# Flow training images in batches of 128 using train_datagen generator\n",
        "train_generator = train_datagen.flow_from_directory(\n",
        "        'tmp/horse-or-human/',  # This is the source directory for training images\n",
        "        target_size=(300, 300),  # All images will be resized to 150x150\n",
        "        batch_size=128,\n",
        "        # Since we use binary_crossentropy loss, we need binary labels\n",
        "        class_mode='binary')\n",
        "\n",
        "# Flow training images in batches of 128 using train_datagen generator\n",
        "validation_generator = validation_datagen.flow_from_directory(\n",
        "        'tmp/validation-horse-or-human/',  # This is the source directory for training images\n",
        "        target_size=(300, 300),  # All images will be resized to 150x150\n",
        "        batch_size=32,\n",
        "        # Since we use binary_crossentropy loss, we need binary labels\n",
        "        class_mode='binary')"
      ],
      "execution_count": 5,
      "outputs": [
        {
          "output_type": "stream",
          "name": "stdout",
          "text": [
            "Found 1027 images belonging to 2 classes.\n",
            "Found 256 images belonging to 2 classes.\n"
          ]
        }
      ]
    },
    {
      "cell_type": "code",
      "metadata": {
        "id": "Fb1_lgobv81m",
        "colab": {
          "base_uri": "https://localhost:8080/"
        },
        "outputId": "73c93a7d-59a1-4cc9-9017-0a7077ea67e1"
      },
      "source": [
        "history = model.fit(\n",
        "      train_generator,\n",
        "      steps_per_epoch=8,  \n",
        "      epochs=100,\n",
        "      verbose=1,\n",
        "      validation_data = validation_generator,\n",
        "      validation_steps=8)"
      ],
      "execution_count": 6,
      "outputs": [
        {
          "output_type": "stream",
          "name": "stdout",
          "text": [
            "Epoch 1/100\n",
            "8/8 [==============================] - 56s 3s/step - loss: 0.6862 - accuracy: 0.5384 - val_loss: 0.6864 - val_accuracy: 0.5000\n",
            "Epoch 2/100\n",
            "8/8 [==============================] - 24s 3s/step - loss: 0.6748 - accuracy: 0.5895 - val_loss: 0.9691 - val_accuracy: 0.5000\n",
            "Epoch 3/100\n",
            "8/8 [==============================] - 25s 3s/step - loss: 0.6784 - accuracy: 0.5984 - val_loss: 0.6519 - val_accuracy: 0.5391\n",
            "Epoch 4/100\n",
            "8/8 [==============================] - 24s 3s/step - loss: 0.6418 - accuracy: 0.7041 - val_loss: 0.5793 - val_accuracy: 0.7852\n",
            "Epoch 5/100\n",
            "8/8 [==============================] - 24s 3s/step - loss: 0.6137 - accuracy: 0.7130 - val_loss: 0.5594 - val_accuracy: 0.7031\n",
            "Epoch 6/100\n",
            "8/8 [==============================] - 25s 3s/step - loss: 0.6288 - accuracy: 0.7086 - val_loss: 0.5346 - val_accuracy: 0.7070\n",
            "Epoch 7/100\n",
            "8/8 [==============================] - 25s 3s/step - loss: 0.6472 - accuracy: 0.6952 - val_loss: 0.5942 - val_accuracy: 0.6055\n",
            "Epoch 8/100\n",
            "8/8 [==============================] - 25s 4s/step - loss: 0.6354 - accuracy: 0.7041 - val_loss: 0.5180 - val_accuracy: 0.7070\n",
            "Epoch 9/100\n",
            "8/8 [==============================] - 25s 3s/step - loss: 0.5717 - accuracy: 0.7175 - val_loss: 0.5607 - val_accuracy: 0.6562\n",
            "Epoch 10/100\n",
            "8/8 [==============================] - 25s 3s/step - loss: 0.5256 - accuracy: 0.7742 - val_loss: 0.7622 - val_accuracy: 0.5625\n",
            "Epoch 11/100\n",
            "8/8 [==============================] - 25s 3s/step - loss: 0.5234 - accuracy: 0.7597 - val_loss: 0.3262 - val_accuracy: 0.9023\n",
            "Epoch 12/100\n",
            "8/8 [==============================] - 25s 3s/step - loss: 0.5583 - accuracy: 0.7119 - val_loss: 0.4984 - val_accuracy: 0.7422\n",
            "Epoch 13/100\n",
            "8/8 [==============================] - 25s 3s/step - loss: 0.5161 - accuracy: 0.7453 - val_loss: 0.5887 - val_accuracy: 0.7070\n",
            "Epoch 14/100\n",
            "8/8 [==============================] - 25s 3s/step - loss: 0.5024 - accuracy: 0.7653 - val_loss: 0.4525 - val_accuracy: 0.7812\n",
            "Epoch 15/100\n",
            "8/8 [==============================] - 25s 3s/step - loss: 0.4979 - accuracy: 0.7486 - val_loss: 0.8993 - val_accuracy: 0.5977\n",
            "Epoch 16/100\n",
            "8/8 [==============================] - 25s 3s/step - loss: 0.4799 - accuracy: 0.7820 - val_loss: 0.8693 - val_accuracy: 0.6016\n",
            "Epoch 17/100\n",
            "8/8 [==============================] - 25s 3s/step - loss: 0.4646 - accuracy: 0.7798 - val_loss: 0.9126 - val_accuracy: 0.6211\n",
            "Epoch 18/100\n",
            "8/8 [==============================] - 25s 3s/step - loss: 0.5155 - accuracy: 0.7531 - val_loss: 0.6956 - val_accuracy: 0.6602\n",
            "Epoch 19/100\n",
            "8/8 [==============================] - 25s 3s/step - loss: 0.4665 - accuracy: 0.7898 - val_loss: 0.7372 - val_accuracy: 0.6836\n",
            "Epoch 20/100\n",
            "8/8 [==============================] - 25s 3s/step - loss: 0.5233 - accuracy: 0.7575 - val_loss: 0.6879 - val_accuracy: 0.6680\n",
            "Epoch 21/100\n",
            "8/8 [==============================] - 25s 3s/step - loss: 0.4203 - accuracy: 0.8176 - val_loss: 0.7699 - val_accuracy: 0.6836\n",
            "Epoch 22/100\n",
            "8/8 [==============================] - 24s 3s/step - loss: 0.4523 - accuracy: 0.7898 - val_loss: 0.8465 - val_accuracy: 0.6758\n",
            "Epoch 23/100\n",
            "8/8 [==============================] - 24s 3s/step - loss: 0.4390 - accuracy: 0.7864 - val_loss: 1.7002 - val_accuracy: 0.5273\n",
            "Epoch 24/100\n",
            "8/8 [==============================] - 24s 3s/step - loss: 0.4493 - accuracy: 0.8020 - val_loss: 0.6225 - val_accuracy: 0.7578\n",
            "Epoch 25/100\n",
            "8/8 [==============================] - 25s 3s/step - loss: 0.4222 - accuracy: 0.7998 - val_loss: 0.7321 - val_accuracy: 0.6797\n",
            "Epoch 26/100\n",
            "8/8 [==============================] - 25s 3s/step - loss: 0.4371 - accuracy: 0.7898 - val_loss: 0.8765 - val_accuracy: 0.6641\n",
            "Epoch 27/100\n",
            "8/8 [==============================] - 27s 3s/step - loss: 0.4132 - accuracy: 0.8105 - val_loss: 0.7796 - val_accuracy: 0.6836\n",
            "Epoch 28/100\n",
            "8/8 [==============================] - 24s 3s/step - loss: 0.4301 - accuracy: 0.8098 - val_loss: 0.9764 - val_accuracy: 0.6367\n",
            "Epoch 29/100\n",
            "8/8 [==============================] - 24s 3s/step - loss: 0.4641 - accuracy: 0.7998 - val_loss: 1.1680 - val_accuracy: 0.6016\n",
            "Epoch 30/100\n",
            "8/8 [==============================] - 24s 3s/step - loss: 0.3699 - accuracy: 0.8443 - val_loss: 1.1802 - val_accuracy: 0.6211\n",
            "Epoch 31/100\n",
            "8/8 [==============================] - 24s 3s/step - loss: 0.3592 - accuracy: 0.8476 - val_loss: 0.4031 - val_accuracy: 0.8359\n",
            "Epoch 32/100\n",
            "8/8 [==============================] - 25s 3s/step - loss: 0.4593 - accuracy: 0.7775 - val_loss: 0.9042 - val_accuracy: 0.6250\n",
            "Epoch 33/100\n",
            "8/8 [==============================] - 25s 3s/step - loss: 0.3717 - accuracy: 0.8365 - val_loss: 0.9897 - val_accuracy: 0.6523\n",
            "Epoch 34/100\n",
            "8/8 [==============================] - 25s 4s/step - loss: 0.3384 - accuracy: 0.8521 - val_loss: 0.9712 - val_accuracy: 0.6719\n",
            "Epoch 35/100\n",
            "8/8 [==============================] - 25s 3s/step - loss: 0.3456 - accuracy: 0.8554 - val_loss: 1.1751 - val_accuracy: 0.6484\n",
            "Epoch 36/100\n",
            "8/8 [==============================] - 25s 3s/step - loss: 0.5034 - accuracy: 0.7753 - val_loss: 1.0817 - val_accuracy: 0.6289\n",
            "Epoch 37/100\n",
            "8/8 [==============================] - 27s 3s/step - loss: 0.3352 - accuracy: 0.8623 - val_loss: 1.2641 - val_accuracy: 0.6133\n",
            "Epoch 38/100\n",
            "8/8 [==============================] - 24s 3s/step - loss: 0.3323 - accuracy: 0.8598 - val_loss: 1.5364 - val_accuracy: 0.5820\n",
            "Epoch 39/100\n",
            "8/8 [==============================] - 24s 3s/step - loss: 0.3698 - accuracy: 0.8387 - val_loss: 1.1987 - val_accuracy: 0.6250\n",
            "Epoch 40/100\n",
            "8/8 [==============================] - 24s 3s/step - loss: 0.3282 - accuracy: 0.8587 - val_loss: 2.0886 - val_accuracy: 0.5312\n",
            "Epoch 41/100\n",
            "8/8 [==============================] - 27s 3s/step - loss: 0.3455 - accuracy: 0.8535 - val_loss: 0.9538 - val_accuracy: 0.6797\n",
            "Epoch 42/100\n",
            "8/8 [==============================] - 24s 3s/step - loss: 0.3176 - accuracy: 0.8654 - val_loss: 1.4904 - val_accuracy: 0.6055\n",
            "Epoch 43/100\n",
            "8/8 [==============================] - 24s 3s/step - loss: 0.3024 - accuracy: 0.8743 - val_loss: 1.2418 - val_accuracy: 0.6523\n",
            "Epoch 44/100\n",
            "8/8 [==============================] - 24s 3s/step - loss: 0.2927 - accuracy: 0.8799 - val_loss: 1.4286 - val_accuracy: 0.6055\n",
            "Epoch 45/100\n",
            "8/8 [==============================] - 24s 3s/step - loss: 0.3962 - accuracy: 0.8376 - val_loss: 1.2972 - val_accuracy: 0.6484\n",
            "Epoch 46/100\n",
            "8/8 [==============================] - 24s 3s/step - loss: 0.2517 - accuracy: 0.9066 - val_loss: 2.0859 - val_accuracy: 0.5820\n",
            "Epoch 47/100\n",
            "8/8 [==============================] - 24s 3s/step - loss: 0.2997 - accuracy: 0.8788 - val_loss: 1.2304 - val_accuracy: 0.6836\n",
            "Epoch 48/100\n",
            "8/8 [==============================] - 24s 3s/step - loss: 0.2940 - accuracy: 0.8743 - val_loss: 1.1283 - val_accuracy: 0.7031\n",
            "Epoch 49/100\n",
            "8/8 [==============================] - 24s 3s/step - loss: 0.2839 - accuracy: 0.8888 - val_loss: 2.9621 - val_accuracy: 0.5156\n",
            "Epoch 50/100\n",
            "8/8 [==============================] - 25s 3s/step - loss: 0.3188 - accuracy: 0.8565 - val_loss: 1.2394 - val_accuracy: 0.6914\n",
            "Epoch 51/100\n",
            "8/8 [==============================] - 25s 3s/step - loss: 0.2289 - accuracy: 0.9088 - val_loss: 1.1487 - val_accuracy: 0.6992\n",
            "Epoch 52/100\n",
            "8/8 [==============================] - 24s 3s/step - loss: 0.3099 - accuracy: 0.8587 - val_loss: 1.0331 - val_accuracy: 0.6797\n",
            "Epoch 53/100\n",
            "8/8 [==============================] - 24s 3s/step - loss: 0.2641 - accuracy: 0.8954 - val_loss: 1.3895 - val_accuracy: 0.6406\n",
            "Epoch 54/100\n",
            "8/8 [==============================] - 25s 3s/step - loss: 0.3071 - accuracy: 0.8687 - val_loss: 1.3354 - val_accuracy: 0.6797\n",
            "Epoch 55/100\n",
            "8/8 [==============================] - 24s 3s/step - loss: 0.2752 - accuracy: 0.8843 - val_loss: 1.5789 - val_accuracy: 0.6367\n",
            "Epoch 56/100\n",
            "8/8 [==============================] - 24s 3s/step - loss: 0.2681 - accuracy: 0.8943 - val_loss: 0.7001 - val_accuracy: 0.7773\n",
            "Epoch 57/100\n",
            "8/8 [==============================] - 24s 3s/step - loss: 0.2314 - accuracy: 0.9155 - val_loss: 2.3151 - val_accuracy: 0.5781\n",
            "Epoch 58/100\n",
            "8/8 [==============================] - 24s 3s/step - loss: 0.3363 - accuracy: 0.8632 - val_loss: 1.6017 - val_accuracy: 0.6445\n",
            "Epoch 59/100\n",
            "8/8 [==============================] - 24s 3s/step - loss: 0.3447 - accuracy: 0.8476 - val_loss: 1.5694 - val_accuracy: 0.6211\n",
            "Epoch 60/100\n",
            "8/8 [==============================] - 24s 3s/step - loss: 0.2237 - accuracy: 0.9210 - val_loss: 1.0342 - val_accuracy: 0.7031\n",
            "Epoch 61/100\n",
            "8/8 [==============================] - 24s 3s/step - loss: 0.2219 - accuracy: 0.9088 - val_loss: 2.6054 - val_accuracy: 0.5508\n",
            "Epoch 62/100\n",
            "8/8 [==============================] - 24s 3s/step - loss: 0.2462 - accuracy: 0.8921 - val_loss: 1.8550 - val_accuracy: 0.6133\n",
            "Epoch 63/100\n",
            "8/8 [==============================] - 25s 3s/step - loss: 0.3248 - accuracy: 0.8687 - val_loss: 1.4566 - val_accuracy: 0.6641\n",
            "Epoch 64/100\n",
            "8/8 [==============================] - 24s 3s/step - loss: 0.2331 - accuracy: 0.9055 - val_loss: 1.6398 - val_accuracy: 0.6367\n",
            "Epoch 65/100\n",
            "8/8 [==============================] - 24s 3s/step - loss: 0.2073 - accuracy: 0.9266 - val_loss: 2.0052 - val_accuracy: 0.6055\n",
            "Epoch 66/100\n",
            "8/8 [==============================] - 24s 3s/step - loss: 0.2760 - accuracy: 0.8810 - val_loss: 1.2892 - val_accuracy: 0.6914\n",
            "Epoch 67/100\n",
            "8/8 [==============================] - 24s 3s/step - loss: 0.1805 - accuracy: 0.9310 - val_loss: 1.8485 - val_accuracy: 0.6367\n",
            "Epoch 68/100\n",
            "8/8 [==============================] - 24s 3s/step - loss: 0.3010 - accuracy: 0.8699 - val_loss: 1.4025 - val_accuracy: 0.6562\n",
            "Epoch 69/100\n",
            "8/8 [==============================] - 24s 3s/step - loss: 0.2046 - accuracy: 0.9155 - val_loss: 1.5359 - val_accuracy: 0.6680\n",
            "Epoch 70/100\n",
            "8/8 [==============================] - 24s 3s/step - loss: 0.1702 - accuracy: 0.9288 - val_loss: 2.7995 - val_accuracy: 0.5664\n",
            "Epoch 71/100\n",
            "8/8 [==============================] - 24s 3s/step - loss: 0.2387 - accuracy: 0.8988 - val_loss: 1.8350 - val_accuracy: 0.6523\n",
            "Epoch 72/100\n",
            "8/8 [==============================] - 24s 3s/step - loss: 0.2043 - accuracy: 0.9188 - val_loss: 1.1562 - val_accuracy: 0.7148\n",
            "Epoch 73/100\n",
            "8/8 [==============================] - 27s 3s/step - loss: 0.1992 - accuracy: 0.9238 - val_loss: 1.8805 - val_accuracy: 0.6406\n",
            "Epoch 74/100\n",
            "8/8 [==============================] - 24s 3s/step - loss: 0.2795 - accuracy: 0.9032 - val_loss: 2.0527 - val_accuracy: 0.6367\n",
            "Epoch 75/100\n",
            "8/8 [==============================] - 24s 3s/step - loss: 0.1654 - accuracy: 0.9422 - val_loss: 2.1582 - val_accuracy: 0.6211\n",
            "Epoch 76/100\n",
            "8/8 [==============================] - 24s 3s/step - loss: 0.3034 - accuracy: 0.8810 - val_loss: 2.8786 - val_accuracy: 0.5703\n",
            "Epoch 77/100\n",
            "8/8 [==============================] - 24s 3s/step - loss: 0.1564 - accuracy: 0.9399 - val_loss: 2.0054 - val_accuracy: 0.6367\n",
            "Epoch 78/100\n",
            "8/8 [==============================] - 24s 3s/step - loss: 0.1612 - accuracy: 0.9422 - val_loss: 2.3599 - val_accuracy: 0.6289\n",
            "Epoch 79/100\n",
            "8/8 [==============================] - 24s 3s/step - loss: 0.2283 - accuracy: 0.9010 - val_loss: 1.8950 - val_accuracy: 0.6445\n",
            "Epoch 80/100\n",
            "8/8 [==============================] - 27s 3s/step - loss: 0.1497 - accuracy: 0.9404 - val_loss: 3.3703 - val_accuracy: 0.5625\n",
            "Epoch 81/100\n",
            "8/8 [==============================] - 24s 3s/step - loss: 0.1646 - accuracy: 0.9333 - val_loss: 2.1112 - val_accuracy: 0.6406\n",
            "Epoch 82/100\n",
            "8/8 [==============================] - 24s 3s/step - loss: 0.2225 - accuracy: 0.9066 - val_loss: 1.4794 - val_accuracy: 0.6953\n",
            "Epoch 83/100\n",
            "8/8 [==============================] - 24s 3s/step - loss: 0.1988 - accuracy: 0.9166 - val_loss: 1.7197 - val_accuracy: 0.6797\n",
            "Epoch 84/100\n",
            "8/8 [==============================] - 24s 3s/step - loss: 0.2040 - accuracy: 0.9177 - val_loss: 2.9962 - val_accuracy: 0.5859\n",
            "Epoch 85/100\n",
            "8/8 [==============================] - 24s 3s/step - loss: 0.1758 - accuracy: 0.9232 - val_loss: 2.3102 - val_accuracy: 0.6367\n",
            "Epoch 86/100\n",
            "8/8 [==============================] - 24s 3s/step - loss: 0.1612 - accuracy: 0.9399 - val_loss: 2.1300 - val_accuracy: 0.6484\n",
            "Epoch 87/100\n",
            "8/8 [==============================] - 25s 3s/step - loss: 0.2157 - accuracy: 0.9077 - val_loss: 0.6671 - val_accuracy: 0.7734\n",
            "Epoch 88/100\n",
            "8/8 [==============================] - 25s 3s/step - loss: 0.1617 - accuracy: 0.9477 - val_loss: 1.2350 - val_accuracy: 0.7227\n",
            "Epoch 89/100\n",
            "8/8 [==============================] - 25s 3s/step - loss: 0.1932 - accuracy: 0.9288 - val_loss: 1.4310 - val_accuracy: 0.6953\n",
            "Epoch 90/100\n",
            "8/8 [==============================] - 25s 3s/step - loss: 0.1533 - accuracy: 0.9388 - val_loss: 2.9120 - val_accuracy: 0.5938\n",
            "Epoch 91/100\n",
            "8/8 [==============================] - 24s 3s/step - loss: 0.1817 - accuracy: 0.9288 - val_loss: 2.7616 - val_accuracy: 0.6250\n",
            "Epoch 92/100\n",
            "8/8 [==============================] - 25s 3s/step - loss: 0.1402 - accuracy: 0.9433 - val_loss: 2.4948 - val_accuracy: 0.6289\n",
            "Epoch 93/100\n",
            "8/8 [==============================] - 24s 3s/step - loss: 0.1884 - accuracy: 0.9277 - val_loss: 1.4722 - val_accuracy: 0.7031\n",
            "Epoch 94/100\n",
            "8/8 [==============================] - 25s 3s/step - loss: 0.1803 - accuracy: 0.9299 - val_loss: 3.0016 - val_accuracy: 0.6016\n",
            "Epoch 95/100\n",
            "8/8 [==============================] - 27s 3s/step - loss: 0.1336 - accuracy: 0.9443 - val_loss: 2.3745 - val_accuracy: 0.6367\n",
            "Epoch 96/100\n",
            "8/8 [==============================] - 25s 3s/step - loss: 0.1945 - accuracy: 0.9210 - val_loss: 1.2647 - val_accuracy: 0.7188\n",
            "Epoch 97/100\n",
            "8/8 [==============================] - 25s 3s/step - loss: 0.1430 - accuracy: 0.9466 - val_loss: 1.9935 - val_accuracy: 0.6641\n",
            "Epoch 98/100\n",
            "8/8 [==============================] - 24s 3s/step - loss: 0.1306 - accuracy: 0.9477 - val_loss: 2.6801 - val_accuracy: 0.6367\n",
            "Epoch 99/100\n",
            "8/8 [==============================] - 27s 3s/step - loss: 0.1547 - accuracy: 0.9287 - val_loss: 2.7209 - val_accuracy: 0.6328\n",
            "Epoch 100/100\n",
            "8/8 [==============================] - 24s 3s/step - loss: 0.1163 - accuracy: 0.9588 - val_loss: 1.3245 - val_accuracy: 0.7305\n"
          ]
        }
      ]
    },
    {
      "cell_type": "code",
      "metadata": {
        "id": "7zNPRWOVJdOH",
        "colab": {
          "base_uri": "https://localhost:8080/",
          "height": 545
        },
        "outputId": "66e782cb-450c-4896-b2ee-cdcecd212f13"
      },
      "source": [
        "import matplotlib.pyplot as plt\n",
        "acc = history.history['accuracy']\n",
        "val_acc = history.history['val_accuracy']\n",
        "loss = history.history['loss']\n",
        "val_loss = history.history['val_loss']\n",
        "\n",
        "epochs = range(len(acc))\n",
        "\n",
        "plt.plot(epochs, acc, 'r', label='Training accuracy')\n",
        "plt.plot(epochs, val_acc, 'b', label='Validation accuracy')\n",
        "plt.title('Training and validation accuracy')\n",
        "\n",
        "plt.figure()\n",
        "\n",
        "plt.plot(epochs, loss, 'r', label='Training Loss')\n",
        "plt.plot(epochs, val_loss, 'b', label='Validation Loss')\n",
        "plt.title('Training and validation loss')\n",
        "plt.legend()\n",
        "\n",
        "plt.show()"
      ],
      "execution_count": 7,
      "outputs": [
        {
          "output_type": "display_data",
          "data": {
            "image/png": "[encoded data removed]",
            "text/plain": [
              "<Figure size 432x288 with 1 Axes>"
            ]
          },
          "metadata": {
            "needs_background": "light"
          }
        },
        {
          "output_type": "display_data",
          "data": {
            "image/png": "[encoded data removed]",
            "text/plain": [
              "<Figure size 432x288 with 1 Axes>"
            ]
          },
          "metadata": {
            "needs_background": "light"
          }
        }
      ]
    }
  ]
}