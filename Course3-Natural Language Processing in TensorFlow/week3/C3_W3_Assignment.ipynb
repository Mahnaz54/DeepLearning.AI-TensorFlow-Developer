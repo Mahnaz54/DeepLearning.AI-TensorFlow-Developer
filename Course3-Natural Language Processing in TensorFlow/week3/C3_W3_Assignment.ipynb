{
  "nbformat": 4,
  "nbformat_minor": 0,
  "metadata": {
    "accelerator": "GPU",
    "colab": {
      "name": "C3_W3_Assignment.ipynb",
      "provenance": [],
      "toc_visible": true
    },
    "kernelspec": {
      "display_name": "Python 3",
      "language": "python",
      "name": "python3"
    },
    "language_info": {
      "codemirror_mode": {
        "name": "ipython",
        "version": 3
      },
      "file_extension": ".py",
      "mimetype": "text/x-python",
      "name": "python",
      "nbconvert_exporter": "python",
      "pygments_lexer": "ipython3",
      "version": "3.8.5"
    }
  },
  "cells": [
    {
      "cell_type": "code",
      "metadata": {
        "id": "zX4Kg8DUTKWO"
      },
      "source": [
        "#@title Licensed under the Apache License, Version 2.0 (the \"License\");\n",
        "# you may not use this file except in compliance with the License.\n",
        "# You may obtain a copy of the License at\n",
        "#\n",
        "# https://www.apache.org/licenses/LICENSE-2.0\n",
        "#\n",
        "# Unless required by applicable law or agreed to in writing, software\n",
        "# distributed under the License is distributed on an \"AS IS\" BASIS,\n",
        "# WITHOUT WARRANTIES OR CONDITIONS OF ANY KIND, either express or implied.\n",
        "# See the License for the specific language governing permissions and\n",
        "# limitations under the License."
      ],
      "execution_count": null,
      "outputs": []
    },
    {
      "cell_type": "markdown",
      "metadata": {
        "id": "gnU1TV9kV5f9"
      },
      "source": [
        "**Note:** This notebook can run using TensorFlow 2.5.0"
      ]
    },
    {
      "cell_type": "code",
      "metadata": {
        "id": "qTZDRvo5V5f9"
      },
      "source": [
        "#!pip install tensorflow==2.5.0"
      ],
      "execution_count": null,
      "outputs": []
    },
    {
      "cell_type": "code",
      "metadata": {
        "id": "hmA6EzkQJ5jt"
      },
      "source": [
        "import json\n",
        "import tensorflow as tf\n",
        "import csv\n",
        "import random\n",
        "import numpy as np\n",
        "\n",
        "from tensorflow.keras.preprocessing.text import Tokenizer\n",
        "from tensorflow.keras.preprocessing.sequence import pad_sequences\n",
        "from tensorflow.keras.utils import to_categorical\n",
        "from tensorflow.keras import regularizers\n",
        "\n",
        "\n",
        "embedding_dim = 100\n",
        "max_length = 16\n",
        "trunc_type='post'\n",
        "padding_type='post'\n",
        "oov_tok = \"<OOV>\"\n",
        "training_size=160000\n",
        "test_portion=.1\n",
        "\n",
        "corpus = []\n"
      ],
      "execution_count": 1,
      "outputs": []
    },
    {
      "cell_type": "code",
      "metadata": {
        "id": "bM0l_dORKqE0",
        "colab": {
          "base_uri": "https://localhost:8080/"
        },
        "outputId": "0619cb50-481c-4af5-82e9-0a0e9ec71900"
      },
      "source": [
        "# Note that I cleaned the Stanford dataset to remove LATIN1 encoding to make it easier for Python CSV reader\n",
        "# You can do that yourself with:\n",
        "# iconv -f LATIN1 -t UTF8 training.1600000.processed.noemoticon.csv -o training_cleaned.csv\n",
        "\n",
        "# training_cleaned.csv\n",
        "!gdown --id 1wd8KaeCSHxt-nEpMeuHFSNWrDp8joUXJ\n",
        "\n",
        "num_sentences = 0\n",
        "\n",
        "with open(\"./training_cleaned.csv\") as csvfile:\n",
        "    reader = csv.reader(csvfile, delimiter=',')\n",
        "    for row in reader:\n",
        "        list_item=[]\n",
        "        \n",
        "        ### START CODE HERE\n",
        "        #Create list items where the first item is the text, found in row[5], and the second is the label. Note that the label is a '0' or a '4' in the text. When it's the former, make\n",
        "        # your label to be 0, otherwise 1. Keep a count of the number of sentences in num_sentences\n",
        "        list_item.append(row[5])\n",
        "        this_label=row[0]\n",
        "        if this_label=='0':\n",
        "            list_item.append(0)\n",
        "        else:\n",
        "            list_item.append(1)\n",
        "        ### END CODE HERE\n",
        "        \n",
        "        num_sentences = num_sentences + 1\n",
        "        corpus.append(list_item)\n"
      ],
      "execution_count": 2,
      "outputs": [
        {
          "output_type": "stream",
          "name": "stdout",
          "text": [
            "Downloading...\n",
            "From: https://drive.google.com/uc?id=1wd8KaeCSHxt-nEpMeuHFSNWrDp8joUXJ\n",
            "To: /content/training_cleaned.csv\n",
            "100% 239M/239M [00:01<00:00, 124MB/s]\n"
          ]
        }
      ]
    },
    {
      "cell_type": "code",
      "metadata": {
        "id": "3kxblBUjEUX-",
        "colab": {
          "base_uri": "https://localhost:8080/"
        },
        "outputId": "bc7e0bf2-d662-4cb7-f7ae-baddabb422c2"
      },
      "source": [
        "print(num_sentences)\n",
        "print(len(corpus))\n",
        "print(corpus[1])\n",
        "\n",
        "# Expected Output:\n",
        "# 1600000\n",
        "# 1600000\n",
        "# [\"is upset that he can't update his Facebook by texting it... and might cry as a result  School today also. Blah!\", 0]"
      ],
      "execution_count": 3,
      "outputs": [
        {
          "output_type": "stream",
          "name": "stdout",
          "text": [
            "1600000\n",
            "1600000\n",
            "[\"is upset that he can't update his Facebook by texting it... and might cry as a result  School today also. Blah!\", 0]\n"
          ]
        }
      ]
    },
    {
      "cell_type": "code",
      "metadata": {
        "id": "ohOGz24lsNAD"
      },
      "source": [
        "sentences=[]\n",
        "labels=[]\n",
        "random.shuffle(corpus)\n",
        "for x in range(training_size):\n",
        "    sentences.append(corpus[x][0])\n",
        "    labels.append(corpus[x][1])\n",
        "\n",
        "\n",
        "tokenizer = Tokenizer()\n",
        "tokenizer.fit_on_texts(sentences)\n",
        "\n",
        "word_index = tokenizer.word_index\n",
        "vocab_size=len(word_index)\n",
        "\n",
        "sequences = tokenizer.texts_to_sequences(sentences)\n",
        "padded = pad_sequences(sequences, maxlen=max_length, padding=padding_type, truncating=trunc_type)\n",
        "\n",
        "split = int(test_portion * training_size)\n",
        "\n",
        "test_sequences = padded[0:split]\n",
        "training_sequences = padded[split:training_size]\n",
        "test_labels = labels[0:split]\n",
        "training_labels = labels[split:training_size]"
      ],
      "execution_count": 5,
      "outputs": []
    },
    {
      "cell_type": "code",
      "metadata": {
        "id": "gIrtRem1En3N",
        "colab": {
          "base_uri": "https://localhost:8080/"
        },
        "outputId": "e2d0d2cf-4e23-422c-998b-70b29dfccf5d"
      },
      "source": [
        "print(vocab_size)\n",
        "print(word_index['i'])\n",
        "# Expected Output\n",
        "# 138856\n",
        "# 1"
      ],
      "execution_count": 6,
      "outputs": [
        {
          "output_type": "stream",
          "name": "stdout",
          "text": [
            "138316\n",
            "1\n"
          ]
        }
      ]
    },
    {
      "cell_type": "code",
      "metadata": {
        "id": "C1zdgJkusRh0",
        "colab": {
          "base_uri": "https://localhost:8080/"
        },
        "outputId": "2cd7b48e-52cc-4659-f22d-2d34e869782f"
      },
      "source": [
        "# Note this is the 100 dimension version of GloVe from Stanford\n",
        "\n",
        "# glove.6B.100d.txt\n",
        "!gdown --id 1W5vZy2etitAblLdFn8_DxnsQKzfFJ98g\n",
        "\n",
        "embeddings_index = {};\n",
        "with open('./glove.6B.100d.txt') as f:\n",
        "    for line in f:\n",
        "        values = line.split();\n",
        "        word = values[0];\n",
        "        coefs = np.asarray(values[1:], dtype='float32');\n",
        "        embeddings_index[word] = coefs;\n",
        "\n",
        "embeddings_matrix = np.zeros((vocab_size+1, embedding_dim));\n",
        "for word, i in word_index.items():\n",
        "    embedding_vector = embeddings_index.get(word);\n",
        "    if embedding_vector is not None:\n",
        "        embeddings_matrix[i] = embedding_vector;"
      ],
      "execution_count": 7,
      "outputs": [
        {
          "output_type": "stream",
          "name": "stdout",
          "text": [
            "Downloading...\n",
            "From: https://drive.google.com/uc?id=1W5vZy2etitAblLdFn8_DxnsQKzfFJ98g\n",
            "To: /content/glove.6B.100d.txt\n",
            "100% 347M/347M [00:02<00:00, 116MB/s]\n"
          ]
        }
      ]
    },
    {
      "cell_type": "code",
      "metadata": {
        "id": "71NLk_lpFLNt",
        "colab": {
          "base_uri": "https://localhost:8080/"
        },
        "outputId": "a052e6ab-ec57-476b-e278-f1f57eb3409a"
      },
      "source": [
        "print(len(embeddings_matrix))\n",
        "# Expected Output\n",
        "# 138857"
      ],
      "execution_count": 8,
      "outputs": [
        {
          "output_type": "stream",
          "name": "stdout",
          "text": [
            "138317\n"
          ]
        }
      ]
    },
    {
      "cell_type": "code",
      "metadata": {
        "id": "iKKvbuEBOGFz",
        "colab": {
          "base_uri": "https://localhost:8080/"
        },
        "outputId": "d8bd609b-6a7a-45a2-b359-b13fe300e186"
      },
      "source": [
        "model = tf.keras.Sequential([\n",
        "    tf.keras.layers.Embedding(vocab_size+1, embedding_dim, input_length=max_length, weights=[embeddings_matrix], trainable=False),\n",
        "    tf.keras.layers.Dropout(0.2),\n",
        "    tf.keras.layers.Conv1D(64, 5, activation='relu'),\n",
        "    tf.keras.layers.MaxPooling1D(pool_size=4),\n",
        "    tf.keras.layers.LSTM(64),\n",
        "    tf.keras.layers.Dense(1, activation='sigmoid')\n",
        "])\n",
        "model.compile(loss='binary_crossentropy',optimizer='adam',metrics=['accuracy'])\n",
        "model.summary()\n",
        "\n",
        "num_epochs = 50\n",
        "training_padded = np.array(training_sequences)\n",
        "training_labels = np.array(training_labels)\n",
        "testing_padded = np.array(test_sequences)\n",
        "testing_labels = np.array(test_labels)\n",
        "\n",
        "history = model.fit(training_padded, training_labels, epochs=num_epochs, validation_data=(testing_padded, testing_labels), verbose=2)\n",
        "\n",
        "\n",
        "print(\"Training Complete\")\n"
      ],
      "execution_count": 14,
      "outputs": [
        {
          "output_type": "stream",
          "name": "stdout",
          "text": [
            "Model: \"sequential_5\"\n",
            "_________________________________________________________________\n",
            "Layer (type)                 Output Shape              Param #   \n",
            "=================================================================\n",
            "embedding_5 (Embedding)      (None, 16, 100)           13831700  \n",
            "_________________________________________________________________\n",
            "dropout_5 (Dropout)          (None, 16, 100)           0         \n",
            "_________________________________________________________________\n",
            "conv1d_5 (Conv1D)            (None, 12, 64)            32064     \n",
            "_________________________________________________________________\n",
            "max_pooling1d_5 (MaxPooling1 (None, 3, 64)             0         \n",
            "_________________________________________________________________\n",
            "lstm_5 (LSTM)                (None, 64)                33024     \n",
            "_________________________________________________________________\n",
            "dense_5 (Dense)              (None, 1)                 65        \n",
            "=================================================================\n",
            "Total params: 13,896,853\n",
            "Trainable params: 65,153\n",
            "Non-trainable params: 13,831,700\n",
            "_________________________________________________________________\n",
            "Epoch 1/50\n",
            "4500/4500 - 30s - loss: 0.5660 - accuracy: 0.6990 - val_loss: 0.5248 - val_accuracy: 0.7384\n",
            "Epoch 2/50\n",
            "4500/4500 - 28s - loss: 0.5267 - accuracy: 0.7305 - val_loss: 0.5092 - val_accuracy: 0.7441\n",
            "Epoch 3/50\n",
            "4500/4500 - 28s - loss: 0.5102 - accuracy: 0.7427 - val_loss: 0.5042 - val_accuracy: 0.7498\n",
            "Epoch 4/50\n",
            "4500/4500 - 28s - loss: 0.4997 - accuracy: 0.7503 - val_loss: 0.4946 - val_accuracy: 0.7562\n",
            "Epoch 5/50\n",
            "4500/4500 - 28s - loss: 0.4917 - accuracy: 0.7554 - val_loss: 0.4931 - val_accuracy: 0.7545\n",
            "Epoch 6/50\n",
            "4500/4500 - 29s - loss: 0.4845 - accuracy: 0.7602 - val_loss: 0.4916 - val_accuracy: 0.7585\n",
            "Epoch 7/50\n",
            "4500/4500 - 30s - loss: 0.4780 - accuracy: 0.7650 - val_loss: 0.4889 - val_accuracy: 0.7569\n",
            "Epoch 8/50\n",
            "4500/4500 - 31s - loss: 0.4742 - accuracy: 0.7673 - val_loss: 0.4905 - val_accuracy: 0.7579\n",
            "Epoch 9/50\n",
            "4500/4500 - 30s - loss: 0.4686 - accuracy: 0.7709 - val_loss: 0.4932 - val_accuracy: 0.7556\n",
            "Epoch 10/50\n",
            "4500/4500 - 29s - loss: 0.4657 - accuracy: 0.7732 - val_loss: 0.4970 - val_accuracy: 0.7566\n",
            "Epoch 11/50\n",
            "4500/4500 - 31s - loss: 0.4630 - accuracy: 0.7738 - val_loss: 0.4944 - val_accuracy: 0.7574\n",
            "Epoch 12/50\n",
            "4500/4500 - 28s - loss: 0.4586 - accuracy: 0.7773 - val_loss: 0.4990 - val_accuracy: 0.7573\n",
            "Epoch 13/50\n",
            "4500/4500 - 30s - loss: 0.4563 - accuracy: 0.7788 - val_loss: 0.4997 - val_accuracy: 0.7561\n",
            "Epoch 14/50\n",
            "4500/4500 - 28s - loss: 0.4545 - accuracy: 0.7799 - val_loss: 0.4960 - val_accuracy: 0.7545\n",
            "Epoch 15/50\n",
            "4500/4500 - 28s - loss: 0.4508 - accuracy: 0.7812 - val_loss: 0.4979 - val_accuracy: 0.7541\n",
            "Epoch 16/50\n",
            "4500/4500 - 28s - loss: 0.4500 - accuracy: 0.7818 - val_loss: 0.5018 - val_accuracy: 0.7546\n",
            "Epoch 17/50\n",
            "4500/4500 - 30s - loss: 0.4464 - accuracy: 0.7838 - val_loss: 0.5008 - val_accuracy: 0.7560\n",
            "Epoch 18/50\n",
            "4500/4500 - 30s - loss: 0.4461 - accuracy: 0.7848 - val_loss: 0.5030 - val_accuracy: 0.7559\n",
            "Epoch 19/50\n",
            "4500/4500 - 30s - loss: 0.4450 - accuracy: 0.7847 - val_loss: 0.5063 - val_accuracy: 0.7564\n",
            "Epoch 20/50\n",
            "4500/4500 - 30s - loss: 0.4435 - accuracy: 0.7868 - val_loss: 0.5021 - val_accuracy: 0.7576\n",
            "Epoch 21/50\n",
            "4500/4500 - 28s - loss: 0.4433 - accuracy: 0.7857 - val_loss: 0.5020 - val_accuracy: 0.7592\n",
            "Epoch 22/50\n",
            "4500/4500 - 28s - loss: 0.4412 - accuracy: 0.7875 - val_loss: 0.5106 - val_accuracy: 0.7584\n",
            "Epoch 23/50\n",
            "4500/4500 - 28s - loss: 0.4389 - accuracy: 0.7890 - val_loss: 0.5052 - val_accuracy: 0.7553\n",
            "Epoch 24/50\n",
            "4500/4500 - 28s - loss: 0.4388 - accuracy: 0.7890 - val_loss: 0.5062 - val_accuracy: 0.7536\n",
            "Epoch 25/50\n",
            "4500/4500 - 28s - loss: 0.4378 - accuracy: 0.7904 - val_loss: 0.5092 - val_accuracy: 0.7538\n",
            "Epoch 26/50\n",
            "4500/4500 - 28s - loss: 0.4360 - accuracy: 0.7906 - val_loss: 0.5116 - val_accuracy: 0.7521\n",
            "Epoch 27/50\n",
            "4500/4500 - 28s - loss: 0.4358 - accuracy: 0.7911 - val_loss: 0.5098 - val_accuracy: 0.7561\n",
            "Epoch 28/50\n",
            "4500/4500 - 26s - loss: 0.4341 - accuracy: 0.7916 - val_loss: 0.5064 - val_accuracy: 0.7541\n",
            "Epoch 29/50\n",
            "4500/4500 - 26s - loss: 0.4343 - accuracy: 0.7909 - val_loss: 0.5072 - val_accuracy: 0.7558\n",
            "Epoch 30/50\n",
            "4500/4500 - 30s - loss: 0.4344 - accuracy: 0.7915 - val_loss: 0.5062 - val_accuracy: 0.7544\n",
            "Epoch 31/50\n",
            "4500/4500 - 32s - loss: 0.4326 - accuracy: 0.7929 - val_loss: 0.5097 - val_accuracy: 0.7579\n",
            "Epoch 32/50\n",
            "4500/4500 - 29s - loss: 0.4321 - accuracy: 0.7929 - val_loss: 0.5057 - val_accuracy: 0.7585\n",
            "Epoch 33/50\n",
            "4500/4500 - 28s - loss: 0.4328 - accuracy: 0.7917 - val_loss: 0.5138 - val_accuracy: 0.7514\n",
            "Epoch 34/50\n",
            "4500/4500 - 32s - loss: 0.4316 - accuracy: 0.7937 - val_loss: 0.5182 - val_accuracy: 0.7594\n",
            "Epoch 35/50\n",
            "4500/4500 - 28s - loss: 0.4312 - accuracy: 0.7945 - val_loss: 0.5088 - val_accuracy: 0.7558\n",
            "Epoch 36/50\n",
            "4500/4500 - 28s - loss: 0.4299 - accuracy: 0.7945 - val_loss: 0.5111 - val_accuracy: 0.7543\n",
            "Epoch 37/50\n",
            "4500/4500 - 28s - loss: 0.4309 - accuracy: 0.7935 - val_loss: 0.5123 - val_accuracy: 0.7553\n",
            "Epoch 38/50\n",
            "4500/4500 - 28s - loss: 0.4289 - accuracy: 0.7953 - val_loss: 0.5179 - val_accuracy: 0.7556\n",
            "Epoch 39/50\n",
            "4500/4500 - 27s - loss: 0.4288 - accuracy: 0.7958 - val_loss: 0.5079 - val_accuracy: 0.7553\n",
            "Epoch 40/50\n",
            "4500/4500 - 27s - loss: 0.4281 - accuracy: 0.7957 - val_loss: 0.5162 - val_accuracy: 0.7528\n",
            "Epoch 41/50\n",
            "4500/4500 - 30s - loss: 0.4295 - accuracy: 0.7952 - val_loss: 0.5155 - val_accuracy: 0.7521\n",
            "Epoch 42/50\n",
            "4500/4500 - 30s - loss: 0.4282 - accuracy: 0.7962 - val_loss: 0.5216 - val_accuracy: 0.7519\n",
            "Epoch 43/50\n",
            "4500/4500 - 28s - loss: 0.4276 - accuracy: 0.7958 - val_loss: 0.5130 - val_accuracy: 0.7537\n",
            "Epoch 44/50\n",
            "4500/4500 - 27s - loss: 0.4290 - accuracy: 0.7961 - val_loss: 0.5137 - val_accuracy: 0.7534\n",
            "Epoch 45/50\n",
            "4500/4500 - 28s - loss: 0.4272 - accuracy: 0.7961 - val_loss: 0.5131 - val_accuracy: 0.7509\n",
            "Epoch 46/50\n",
            "4500/4500 - 27s - loss: 0.4255 - accuracy: 0.7975 - val_loss: 0.5128 - val_accuracy: 0.7563\n",
            "Epoch 47/50\n",
            "4500/4500 - 27s - loss: 0.4278 - accuracy: 0.7961 - val_loss: 0.5133 - val_accuracy: 0.7564\n",
            "Epoch 48/50\n",
            "4500/4500 - 26s - loss: 0.4269 - accuracy: 0.7963 - val_loss: 0.5152 - val_accuracy: 0.7566\n",
            "Epoch 49/50\n",
            "4500/4500 - 26s - loss: 0.4266 - accuracy: 0.7965 - val_loss: 0.5160 - val_accuracy: 0.7551\n",
            "Epoch 50/50\n",
            "4500/4500 - 26s - loss: 0.4254 - accuracy: 0.7969 - val_loss: 0.5135 - val_accuracy: 0.7551\n",
            "Training Complete\n"
          ]
        }
      ]
    },
    {
      "cell_type": "code",
      "metadata": {
        "id": "qxju4ItJKO8F",
        "colab": {
          "base_uri": "https://localhost:8080/",
          "height": 610
        },
        "outputId": "3aed6d70-6e1c-47f0-ec24-ec150145732c"
      },
      "source": [
        "import matplotlib.image  as mpimg\n",
        "import matplotlib.pyplot as plt\n",
        "\n",
        "#-----------------------------------------------------------\n",
        "# Retrieve a list of list results on training and test data\n",
        "# sets for each training epoch\n",
        "#-----------------------------------------------------------\n",
        "acc=history.history['accuracy']\n",
        "val_acc=history.history['val_accuracy']\n",
        "loss=history.history['loss']\n",
        "val_loss=history.history['val_loss']\n",
        "\n",
        "epochs=range(len(acc)) # Get number of epochs\n",
        "\n",
        "#------------------------------------------------\n",
        "# Plot training and validation accuracy per epoch\n",
        "#------------------------------------------------\n",
        "plt.plot(epochs, acc, 'r')\n",
        "plt.plot(epochs, val_acc, 'b')\n",
        "plt.title('Training and validation accuracy')\n",
        "plt.xlabel(\"Epochs\")\n",
        "plt.ylabel(\"Accuracy\")\n",
        "plt.legend([\"Accuracy\", \"Validation Accuracy\"])\n",
        "\n",
        "plt.figure()\n",
        "\n",
        "#------------------------------------------------\n",
        "# Plot training and validation loss per epoch\n",
        "#------------------------------------------------\n",
        "plt.plot(epochs, loss, 'r')\n",
        "plt.plot(epochs, val_loss, 'b')\n",
        "plt.title('Training and validation loss')\n",
        "plt.xlabel(\"Epochs\")\n",
        "plt.ylabel(\"Loss\")\n",
        "plt.legend([\"Loss\", \"Validation Loss\"])\n",
        "\n",
        "plt.figure()\n",
        "\n",
        "\n",
        "# Expected Output\n",
        "# A chart where the validation loss does not increase sharply!"
      ],
      "execution_count": 15,
      "outputs": [
        {
          "output_type": "execute_result",
          "data": {
            "text/plain": [
              "<Figure size 432x288 with 0 Axes>"
            ]
          },
          "metadata": {},
          "execution_count": 15
        },
        {
          "output_type": "display_data",
          "data": {
            "image/png": "[encoded data removed]",
            "text/plain": [
              "<Figure size 432x288 with 1 Axes>"
            ]
          },
          "metadata": {
            "needs_background": "light"
          }
        },
        {
          "output_type": "display_data",
          "data": {
            "image/png": "[encoded data removed]",
            "text/plain": [
              "<Figure size 432x288 with 1 Axes>"
            ]
          },
          "metadata": {
            "needs_background": "light"
          }
        },
        {
          "output_type": "display_data",
          "data": {
            "text/plain": [
              "<Figure size 432x288 with 0 Axes>"
            ]
          },
          "metadata": {}
        }
      ]
    }
  ]
}